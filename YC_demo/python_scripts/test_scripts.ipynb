{
 "cells": [
  {
   "cell_type": "code",
   "execution_count": 1,
   "metadata": {},
   "outputs": [
    {
     "data": {
      "text/plain": [
       "<firebase_admin.App at 0x24c7c88c6d0>"
      ]
     },
     "execution_count": 1,
     "metadata": {},
     "output_type": "execute_result"
    }
   ],
   "source": [
    "import firebase_admin\n",
    "from firebase_admin import credentials, firestore\n",
    "\n",
    "cred = credentials.Certificate(r'C:\\Users\\punee\\OneDrive\\Documents\\GitHub\\Coco\\firestore_key.json')\n",
    "firebase_admin.initialize_app(cred)"
   ]
  },
  {
   "cell_type": "code",
   "execution_count": 2,
   "metadata": {},
   "outputs": [],
   "source": [
    "db = firestore.client()\n",
    "\n",
    "# Specify the collection and document you want to retrieve\n",
    "collection_name = 'user_metas'  # Replace with your actual collection name\n",
    "document_id = 'Lnv9QHEi8dnDz0d95q3N'       # Replace with the document's unique ID\n",
    "\n",
    "# Fetch the document\n",
    "doc_ref = db.collection(collection_name).document(document_id)\n",
    "doc = doc_ref.get()\n"
   ]
  },
  {
   "cell_type": "code",
   "execution_count": 4,
   "metadata": {},
   "outputs": [
    {
     "name": "stdout",
     "output_type": "stream",
     "text": [
      "Document data: {'height': 'Tall', 'hairColor': 'Black', 'dressingSize': 'Medium', 'seasonColors': ['crisp white', 'light beige', 'Grayish brown', 'medium gray', 'earthy green', 'Vibrant green', 'light blue', ' bluish purple', 'cool pink', 'warm pink', 'warm orange', 'creamy yellow'], 'Age': '25', 'skinTone': 'Brown', 'stylingSeason': 'Cool Winter', 'irisColor': 'Black', 'Ethnicity': 'India', 'bodyType': 'hourglass', 'genderFemale': True}\n"
     ]
    }
   ],
   "source": [
    "\n",
    "if doc.exists:\n",
    "    print(f'Document data: {doc.to_dict()}')\n",
    "else:\n",
    "    print('No such document!')"
   ]
  },
  {
   "cell_type": "code",
   "execution_count": 8,
   "metadata": {},
   "outputs": [],
   "source": [
    "def format_json_as_paragraph(data):\n",
    "    \"\"\"\n",
    "    This function takes a dictionary and returns a paragraph string\n",
    "    describing its key-value pairs.\n",
    "    \"\"\"\n",
    "    paragraph = \"\"\n",
    "    for key, value in data.items():\n",
    "        paragraph += f\"{key.capitalize()}: {value}, \"\n",
    "    return paragraph[:-2] "
   ]
  },
  {
   "cell_type": "code",
   "execution_count": 13,
   "metadata": {},
   "outputs": [
    {
     "name": "stdout",
     "output_type": "stream",
     "text": [
      "{'metas': 'Lnv9QHEi8dnDz0d95q3N', 'prefs': 'o2ZrAj2etK6E4lJ1tvUU'}\n"
     ]
    }
   ],
   "source": [
    "collection_name = 'users'\n",
    "doc_id='PIuAjdxrQvObMBHP2bxziz4nQLq2'\n",
    "doc_ref = db.collection(collection_name).document(doc_id)\n",
    "doc = doc_ref.get()\n",
    "if doc.exists:\n",
    "    print({\"metas\":doc.get(\"metas_id\").get().id,\"prefs\":doc.get(\"prefs_id\").get().id})\n",
    "    "
   ]
  },
  {
   "cell_type": "code",
   "execution_count": 18,
   "metadata": {},
   "outputs": [
    {
     "name": "stdout",
     "output_type": "stream",
     "text": [
      "Height: Tall, Haircolor: Black, Dressingsize: Medium, Seasoncolors: ['crisp white', 'light beige', 'Grayish brown', 'medium gray', 'earthy green', 'Vibrant green', 'light blue', ' bluish purple', 'cool pink', 'warm pink', 'warm orange', 'creamy yellow'], Age: 25, Skintone: Brown, Stylingseason: Cool Winter, Iriscolor: Black, Ethnicity: India, Bodytype: hourglass, Genderfemale: True\n"
     ]
    }
   ],
   "source": [
    "print(format_json_as_paragraph(doc.to_dict()))\n"
   ]
  },
  {
   "cell_type": "code",
   "execution_count": 5,
   "metadata": {},
   "outputs": [
    {
     "name": "stdout",
     "output_type": "stream",
     "text": [
      "Document added with ID: o2ZrAj2etK6E4lJ1tvUU\n"
     ]
    }
   ],
   "source": [
    "# Data to be added\n",
    "user_preferences_data = {\n",
    "  \"likes\": {\n",
    "    \"colors\": [\"pastels\", \"earth tones\", \"jewel tones\"],\n",
    "    \"patterns\": [\"floral\", \"stripes\", \"polka dots\"],\n",
    "    \"fabrics\": [\"cotton\", \"linen\", \"silk\"],\n",
    "    \"styles\": [\"casual\", \"boho\", \"vintage\"],\n",
    "    \"fits\": [\"loose\", \"flowy\"],\n",
    "    \"necklines\": [\"V-neck\", \"round neck\"],\n",
    "    \"sleeves\": [\"short\", \"3/4 length\"],\n",
    "    \"specific_items\": [\"summer dresses\", \"midi skirts\", \"cropped jackets\"],\n",
    "    \"brands\": [\"FabIndia\", \"H&M\"],\n",
    "    \"combinations\": [\n",
    "      \"floral dress + denim jacket\",\n",
    "      \"striped shirt + linen pants\",\n",
    "      \"pastel top + white jeans\"\n",
    "    ]\n",
    "  },\n",
    "  \"dislikes\": {\n",
    "    \"colors\": [\"neon\", \"black\"],\n",
    "    \"patterns\": [\"animal print\"],\n",
    "    \"fabrics\": [\"polyester\", \"leather\"],\n",
    "    \"styles\": [\"formal\", \"preppy\"],\n",
    "    \"fits\": [\"tight\", \"bodycon\"],\n",
    "    \"necklines\": [\"turtleneck\"],\n",
    "    \"sleeves\": [\"sleeveless\"],\n",
    "    \"specific_items\": [\"skinny jeans\", \"mini skirts\", \"blazers\"],\n",
    "    \"brands\": [\"Zara\"],\n",
    "    \"combinations\": [\n",
    "      \"bright colors + busy patterns\",\n",
    "      \"leather jacket + formal pants\"\n",
    "    ]\n",
    "  },\n",
    "}\n",
    "\n",
    "# Reference to the collection\n",
    "user_metas_ref = db.collection('user_prefs')\n",
    "\n",
    "# Add a new document\n",
    "new_doc_ref = user_metas_ref.document()  # Auto-generate document ID\n",
    "new_doc_ref.set(user_preferences_data)\n",
    "\n",
    "print(f'Document added with ID: {new_doc_ref.id}') "
   ]
  },
  {
   "cell_type": "code",
   "execution_count": 15,
   "metadata": {},
   "outputs": [
    {
     "name": "stdout",
     "output_type": "stream",
     "text": [
      "Colors: ['pastels', 'earth tones', 'jewel tones'], Patterns: ['floral', 'stripes', 'polka dots'], Fabrics: ['cotton', 'linen', 'silk'], Styles: ['casual', 'boho', 'vintage'], Fits: ['loose', 'flowy'], Necklines: ['V-neck', 'round neck'], Sleeves: ['short', '3/4 length'], Specific_items: ['summer dresses', 'midi skirts', 'cropped jackets'], Brands: ['FabIndia', 'H&M'], Combinations: ['floral dress + denim jacket', 'striped shirt + linen pants', 'pastel top + white jeans']\n"
     ]
    }
   ],
   "source": [
    "print(format_json_as_paragraph(user_preferences_data[\"likes\"]))"
   ]
  },
  {
   "cell_type": "code",
   "execution_count": 5,
   "metadata": {},
   "outputs": [],
   "source": [
    "def format_preferences_to_text(preferences_data):\n",
    "    formatted_text = \"\"\n",
    "    \n",
    "    for section, data in preferences_data.items():\n",
    "        formatted_text += f\"\\n## {section.capitalize()}:\\n\"\n",
    "        \n",
    "        for category, items in data.items():\n",
    "            formatted_text += f\"- {category.capitalize()}: \"\n",
    "\n",
    "            # Check if it's a list (for combinations)\n",
    "            if isinstance(items, list):\n",
    "                # Special handling for list of strings (like combinations)\n",
    "                if all(isinstance(item, str) for item in items):\n",
    "                    formatted_text += \", \".join(items) \n",
    "                else:\n",
    "                    # Handle other types of lists if needed\n",
    "                    formatted_text += str(items) \n",
    "\n",
    "            else:\n",
    "                formatted_text += items\n",
    "            formatted_text += \"\\n\"\n",
    "    \n",
    "    return formatted_text\n"
   ]
  },
  {
   "cell_type": "code",
   "execution_count": 27,
   "metadata": {},
   "outputs": [
    {
     "name": "stdout",
     "output_type": "stream",
     "text": [
      "\n",
      "## Likes:\n",
      "- Colors: pastels, earth tones, jewel tones\n",
      "- Patterns: floral, stripes, polka dots\n",
      "- Fabrics: cotton, linen, silk\n",
      "- Styles: casual, boho, vintage\n",
      "- Fits: loose, flowy\n",
      "- Necklines: V-neck, round neck\n",
      "- Sleeves: short, 3/4 length\n",
      "- Specific_items: summer dresses, midi skirts, cropped jackets\n",
      "- Brands: FabIndia, H&M\n",
      "- Combinations: floral dress + denim jacket, striped shirt + linen pants, pastel top + white jeans\n",
      "\n",
      "## Dislikes:\n",
      "- Colors: neon, black\n",
      "- Patterns: animal print\n",
      "- Fabrics: polyester, leather\n",
      "- Styles: formal, preppy\n",
      "- Fits: tight, bodycon\n",
      "- Necklines: turtleneck\n",
      "- Sleeves: sleeveless\n",
      "- Specific_items: skinny jeans, mini skirts, blazers\n",
      "- Brands: Zara\n",
      "- Combinations: bright colors + busy patterns, leather jacket + formal pants\n",
      "\n"
     ]
    }
   ],
   "source": [
    "print(format_preferences_to_text(user_preferences_data))\n"
   ]
  },
  {
   "cell_type": "code",
   "execution_count": 6,
   "metadata": {},
   "outputs": [
    {
     "ename": "AttributeError",
     "evalue": "'str' object has no attribute 'items'",
     "output_type": "error",
     "traceback": [
      "\u001b[1;31m---------------------------------------------------------------------------\u001b[0m",
      "\u001b[1;31mAttributeError\u001b[0m                            Traceback (most recent call last)",
      "Cell \u001b[1;32mIn[6], line 1\u001b[0m\n\u001b[1;32m----> 1\u001b[0m \u001b[38;5;28mprint\u001b[39m(\u001b[43mformat_preferences_to_text\u001b[49m\u001b[43m(\u001b[49m\u001b[43mdoc\u001b[49m\u001b[38;5;241;43m.\u001b[39;49m\u001b[43mto_dict\u001b[49m\u001b[43m(\u001b[49m\u001b[43m)\u001b[49m\u001b[43m)\u001b[49m)\n",
      "Cell \u001b[1;32mIn[5], line 7\u001b[0m, in \u001b[0;36mformat_preferences_to_text\u001b[1;34m(preferences_data)\u001b[0m\n\u001b[0;32m      4\u001b[0m \u001b[38;5;28;01mfor\u001b[39;00m section, data \u001b[38;5;129;01min\u001b[39;00m preferences_data\u001b[38;5;241m.\u001b[39mitems():\n\u001b[0;32m      5\u001b[0m     formatted_text \u001b[38;5;241m+\u001b[39m\u001b[38;5;241m=\u001b[39m \u001b[38;5;124mf\u001b[39m\u001b[38;5;124m\"\u001b[39m\u001b[38;5;130;01m\\n\u001b[39;00m\u001b[38;5;124m## \u001b[39m\u001b[38;5;132;01m{\u001b[39;00msection\u001b[38;5;241m.\u001b[39mcapitalize()\u001b[38;5;132;01m}\u001b[39;00m\u001b[38;5;124m:\u001b[39m\u001b[38;5;130;01m\\n\u001b[39;00m\u001b[38;5;124m\"\u001b[39m\n\u001b[1;32m----> 7\u001b[0m     \u001b[38;5;28;01mfor\u001b[39;00m category, items \u001b[38;5;129;01min\u001b[39;00m \u001b[43mdata\u001b[49m\u001b[38;5;241;43m.\u001b[39;49m\u001b[43mitems\u001b[49m():\n\u001b[0;32m      8\u001b[0m         formatted_text \u001b[38;5;241m+\u001b[39m\u001b[38;5;241m=\u001b[39m \u001b[38;5;124mf\u001b[39m\u001b[38;5;124m\"\u001b[39m\u001b[38;5;124m- \u001b[39m\u001b[38;5;132;01m{\u001b[39;00mcategory\u001b[38;5;241m.\u001b[39mcapitalize()\u001b[38;5;132;01m}\u001b[39;00m\u001b[38;5;124m: \u001b[39m\u001b[38;5;124m\"\u001b[39m\n\u001b[0;32m     10\u001b[0m         \u001b[38;5;66;03m# Check if it's a list (for combinations)\u001b[39;00m\n",
      "\u001b[1;31mAttributeError\u001b[0m: 'str' object has no attribute 'items'"
     ]
    }
   ],
   "source": [
    "print(format_preferences_to_text(doc.to_dict()))"
   ]
  },
  {
   "cell_type": "code",
   "execution_count": 10,
   "metadata": {},
   "outputs": [],
   "source": [
    "def get_doc_ids(user_id):\n",
    "    collection_name = 'users'\n",
    "    doc_ref = db.collection(collection_name).document(user_id)\n",
    "    doc = doc_ref.get()\n",
    "    if doc.exists:\n",
    "        return({\"metas\":doc.get(\"metas_id\").get().id,\"prefs\":doc.get(\"prefs_id\").get().id})"
   ]
  },
  {
   "cell_type": "code",
   "execution_count": 11,
   "metadata": {},
   "outputs": [],
   "source": [
    "def get_user_metas(doc_id):\n",
    "    collection_name = 'user_metas'\n",
    "    doc_ref = db.collection(collection_name).document(doc_id)\n",
    "    doc = doc_ref.get()\n",
    "    if doc.exists:\n",
    "        return(format_json_as_paragraph(doc.to_dict()))\n",
    "    else:\n",
    "        return(\"No user metas available\")"
   ]
  },
  {
   "cell_type": "code",
   "execution_count": 12,
   "metadata": {},
   "outputs": [],
   "source": [
    "def get_user_prefs(doc_id):\n",
    "    collection_name = 'user_prefs'\n",
    "    doc_ref = db.collection(collection_name).document(doc_id)\n",
    "    doc = doc_ref.get()\n",
    "    if doc.exists:\n",
    "        return(format_preferences_to_text(doc.to_dict()))\n",
    "    else:\n",
    "        return(\"No user metas available\")\n"
   ]
  },
  {
   "cell_type": "code",
   "execution_count": 16,
   "metadata": {},
   "outputs": [],
   "source": [
    "def format_json_as_paragraph(data, depth=0):\n",
    "    \n",
    "    paragraph = \"\"\n",
    "    indent = \"  \" * depth  # Indentation based on depth\n",
    "\n",
    "    if isinstance(data, dict):\n",
    "        for key, value in data.items():\n",
    "            paragraph += f\"{indent}{key.capitalize()}: \"\n",
    "\n",
    "            if isinstance(value, (dict, list)):  \n",
    "                # Recursive call for nested dictionaries/lists\n",
    "                paragraph += format_json_as_paragraph(value, depth + 1) + \"\\n\"  \n",
    "            elif isinstance(value, list) and all(isinstance(item, str) for item in value):\n",
    "                # Special handling for lists of strings\n",
    "                paragraph += \", \".join(value) + \"\\n\"\n",
    "            else:\n",
    "                paragraph += str(value) + \"\\n\"\n",
    "    elif isinstance(data, list):\n",
    "        for index, item in enumerate(data):\n",
    "            if isinstance(item, (dict, list)):\n",
    "                paragraph += f\"{indent}- Item {index + 1}:\\n\"\n",
    "                paragraph += format_json_as_paragraph(item, depth + 1) + \"\\n\"  # Recursive call\n",
    "            else:\n",
    "                paragraph += f\"{indent}- {item}\\n\"\n",
    "\n",
    "    return paragraph.strip()  # Remove trailing newline\n"
   ]
  },
  {
   "cell_type": "code",
   "execution_count": 17,
   "metadata": {},
   "outputs": [
    {
     "name": "stdout",
     "output_type": "stream",
     "text": [
      "Height: Tall\n",
      "Haircolor: Black\n",
      "Dressingsize: Medium\n",
      "Seasoncolors: - crisp white\n",
      "  - light beige\n",
      "  - Grayish brown\n",
      "  - medium gray\n",
      "  - earthy green\n",
      "  - Vibrant green\n",
      "  - light blue\n",
      "  -  bluish purple\n",
      "  - cool pink\n",
      "  - warm pink\n",
      "  - warm orange\n",
      "  - creamy yellow\n",
      "Age: 25\n",
      "Skintone: Brown\n",
      "Stylingseason: Cool Winter\n",
      "Iriscolor: Black\n",
      "Ethnicity: India\n",
      "Bodytype: hourglass\n",
      "Genderfemale: True\n",
      "\n",
      "## Dislikes:\n",
      "- Brands: Zara\n",
      "- Styles: formal, preppy\n",
      "- Sleeves: sleeveless\n",
      "- Specific_items: skinny jeans, mini skirts, blazers\n",
      "- Combinations: bright colors + busy patterns, leather jacket + formal pants\n",
      "- Fabrics: polyester, leather\n",
      "- Patterns: animal print\n",
      "- Fits: tight, bodycon\n",
      "- Colors: neon, black\n",
      "- Necklines: turtleneck\n",
      "\n",
      "## Likes:\n",
      "- Brands: FabIndia, H&M\n",
      "- Styles: casual, boho, vintage\n",
      "- Sleeves: short, 3/4 length\n",
      "- Specific_items: summer dresses, midi skirts, cropped jackets\n",
      "- Combinations: floral dress + denim jacket, striped shirt + linen pants, pastel top + white jeans\n",
      "- Fabrics: cotton, linen, silk\n",
      "- Patterns: floral, stripes, polka dots\n",
      "- Fits: loose, flowy\n",
      "- Colors: pastels, earth tones, jewel tones\n",
      "- Necklines: V-neck, round neck\n",
      "\n"
     ]
    }
   ],
   "source": [
    "ids = get_doc_ids('PIuAjdxrQvObMBHP2bxziz4nQLq2')\n",
    "print(get_user_metas(ids[\"metas\"]))\n",
    "print(get_user_prefs(ids[\"prefs\"]))"
   ]
  }
 ],
 "metadata": {
  "kernelspec": {
   "display_name": "Python 3",
   "language": "python",
   "name": "python3"
  },
  "language_info": {
   "codemirror_mode": {
    "name": "ipython",
    "version": 3
   },
   "file_extension": ".py",
   "mimetype": "text/x-python",
   "name": "python",
   "nbconvert_exporter": "python",
   "pygments_lexer": "ipython3",
   "version": "3.11.9"
  }
 },
 "nbformat": 4,
 "nbformat_minor": 2
}
